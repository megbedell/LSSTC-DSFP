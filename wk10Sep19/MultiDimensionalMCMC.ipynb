{
  "nbformat": 4,
  "nbformat_minor": 0,
  "metadata": {
    "kernelspec": {
      "display_name": "Python 3",
      "language": "python",
      "name": "python3"
    },
    "language_info": {
      "codemirror_mode": {
        "name": "ipython",
        "version": 3
      },
      "file_extension": ".py",
      "mimetype": "text/x-python",
      "name": "python",
      "nbconvert_exporter": "python",
      "pygments_lexer": "ipython3",
      "version": "3.7.1"
    },
    "colab": {
      "name": "Copy of IntroToMCMC.ipynb",
      "version": "0.3.2",
      "provenance": [],
      "collapsed_sections": []
    }
  },
  "cells": [
    {
      "cell_type": "code",
      "metadata": {
        "id": "zJrPiP3dVaLV",
        "colab_type": "code",
        "colab": {}
      },
      "source": [
        "import numpy as np\n",
        "import pandas as pd\n",
        "\n",
        "import matplotlib.pyplot as plt\n",
        "\n",
        "np.random.seed(42)"
      ],
      "execution_count": 0,
      "outputs": []
    },
    {
      "cell_type": "markdown",
      "metadata": {
        "id": "mPbqK8rtVaLd",
        "colab_type": "text"
      },
      "source": [
        "#   Multi-Dimensional Integration with MCMC\n",
        "\n",
        "-----\n",
        "\n",
        "By Megan Bedell (Flatiron Institute)\n",
        "\n",
        "10 September 2019"
      ]
    },
    {
      "cell_type": "markdown",
      "metadata": {
        "id": "xBt_glweW7Nk",
        "colab_type": "text"
      },
      "source": [
        "### Problem 1: Fitting a Sinusoid to Data\n",
        "\n",
        "In this example, we will download a time series of radial velocities for the star HD209458. This star hosts a Hot Jupiter exoplanet. In fact, [this planet](https://en.wikipedia.org/wiki/HD_209458_b) was the first to be seen in transit and was discovered 20 years ago yesterday!\n",
        "\n",
        "Because the eccentricity is low for this planet, we can fit its orbit in the radial velocities with a relatively simple model: a sinusoid."
      ]
    },
    {
      "cell_type": "markdown",
      "metadata": {
        "id": "-aZptzfVY7ry",
        "colab_type": "text"
      },
      "source": [
        "Below is a snippet of code that will download the time-series data from [NASA Exoplanet Archive](https://exoplanetarchive.ipac.caltech.edu/):"
      ]
    },
    {
      "cell_type": "code",
      "metadata": {
        "id": "PbxNvTrAVaLf",
        "colab_type": "code",
        "colab": {}
      },
      "source": [
        "datafile = 'https://exoplanetarchive.ipac.caltech.edu/data/ExoData/0108/0108859/data/UID_0108859_RVC_001.tbl'\n",
        "data = pd.read_fwf(datafile, header=0, names=['t', 'rv', 'rv_err'], skiprows=22)\n",
        "data['t'] -= data['t'][0]"
      ],
      "execution_count": 0,
      "outputs": []
    },
    {
      "cell_type": "markdown",
      "metadata": {
        "id": "UgsayphyZEJV",
        "colab_type": "text"
      },
      "source": [
        "#### Problem 1a\n",
        "Plot the data. Let's take a look at what we're working with!"
      ]
    },
    {
      "cell_type": "code",
      "metadata": {
        "id": "h-bD2rLAVaLj",
        "colab_type": "code",
        "outputId": "cd708913-2405-49e5-b2ad-358caefbe179",
        "colab": {
          "base_uri": "https://localhost:8080/",
          "height": 283
        }
      },
      "source": [
        "fig, ax = plt.subplots()\n",
        "ax.errorbar(data['t'], data['rv'], data['rv_err'], fmt='o', ms=4)\n",
        "ax.set_xlabel('Time (days)')\n",
        "ax.set_ylabel(r'RV (m s$^{-1}$)');"
      ],
      "execution_count": 3,
      "outputs": [
        {
          "output_type": "display_data",
          "data": {
            "image/png": "[encoded data removed]",
            "text/plain": [
              "<Figure size 432x288 with 1 Axes>"
            ]
          },
          "metadata": {
            "tags": []
          }
        }
      ]
    },
    {
      "cell_type": "markdown",
      "metadata": {
        "id": "uHJ5IlyZZKQi",
        "colab_type": "text"
      },
      "source": [
        "#### Problem 1b\n",
        "\n",
        "Write the sinusoid function that we want to fit."
      ]
    },
    {
      "cell_type": "code",
      "metadata": {
        "id": "syuzuBZkXolQ",
        "colab_type": "code",
        "colab": {}
      },
      "source": [
        "def get_model_predictions(theta, t):\n",
        "  '''\n",
        "  Calculate RV predictions for parameters theta and timestamps t.\n",
        "  '''\n",
        "  period, amplitude, t0, rv0 = theta\n",
        "  model_preds = amplitude * np.sin(2. * np.pi / period * (t - t0)) + rv0\n",
        "  return model_preds"
      ],
      "execution_count": 0,
      "outputs": []
    },
    {
      "cell_type": "markdown",
      "metadata": {
        "id": "p8dewjvBHmTE",
        "colab_type": "text"
      },
      "source": [
        "The following functions should be imported from the previous day's Metropolis-Hastings exercise:"
      ]
    },
    {
      "cell_type": "code",
      "metadata": {
        "id": "SeONIfWwVaLr",
        "colab_type": "code",
        "colab": {}
      },
      "source": [
        "def lnlikelihood(theta, y, x, y_unc):\n",
        "    model_preds = get_model_predictions(theta, x)\n",
        "    \n",
        "    lnl = -np.sum((y-model_preds)**2/(2*y_unc**2))\n",
        "    \n",
        "    return lnl\n",
        "  \n",
        "def nll(theta, y, x, y_unc):\n",
        "    return -1. * lnlikelihood(theta, y, x, y_unc)\n",
        "  \n",
        "def lnprior(theta):\n",
        "    period, amplitude, t0, rv0 = theta\n",
        "    if 0 < period <= 1e4 and 0 <= amplitude <= 1e3:\n",
        "        lnp = np.log(1e-4) + np.log(1e-3)\n",
        "    else:\n",
        "        return -np.inf\n",
        "    \n",
        "    return lnp\n",
        "  \n",
        "\n",
        "def lnposterior(theta, y, x, y_unc):\n",
        "    lnp = lnprior(theta)\n",
        "    if not np.isfinite(lnp):\n",
        "        return -np.inf\n",
        "    lnl = lnlikelihood(theta, y, x, y_unc)\n",
        "    lnpost = lnl + lnp\n",
        "        \n",
        "    return lnpost\n",
        "\n",
        "def hastings_ratio(theta_1, theta_0, y, x, y_unc):\n",
        "    lnpost1 = lnposterior(theta_1, y, x, y_unc)\n",
        "    lnpost0 = lnposterior(theta_0, y, x, y_unc)\n",
        "    \n",
        "    h_ratio = np.exp(lnpost1)/np.exp(lnpost0)\n",
        "    \n",
        "    return h_ratio\n",
        "  \n",
        "\n",
        "def propose_jump(theta, cov):\n",
        "    if np.shape(theta) == np.shape(cov):\n",
        "        cov = np.diag(np.array(cov)**2)\n",
        "    \n",
        "    proposed_position = np.random.multivariate_normal(theta, cov)\n",
        "    \n",
        "    return proposed_position\n",
        "  \n",
        "def mh_mcmc(theta_0, cov, nsteps, y, x, y_unc):\n",
        "    \n",
        "    positions = np.zeros((nsteps+1, len(theta_0)))\n",
        "    lnpost_at_pos = -np.inf*np.ones(nsteps+1)\n",
        "    acceptance_ratio = np.zeros_like(lnpost_at_pos)\n",
        "    accepted = 0\n",
        "    \n",
        "    positions[0] = theta_0\n",
        "    lnpost_at_pos[0] = lnposterior(theta_0, y, x, y_unc)\n",
        "    \n",
        "    for step_num in np.arange(1, nsteps+1):\n",
        "        proposal = propose_jump(positions[step_num-1], cov)\n",
        "        H = hastings_ratio(proposal, positions[step_num-1], y, x, y_unc)\n",
        "        R = np.random.uniform()\n",
        "        \n",
        "        if H > R:\n",
        "            accepted += 1\n",
        "            positions[step_num] = proposal\n",
        "            lnpost_at_pos[step_num] = lnposterior(proposal, y, x, y_unc)\n",
        "            acceptance_ratio[step_num] = float(accepted)/step_num\n",
        "        else:\n",
        "            positions[step_num] = positions[step_num-1]\n",
        "            lnpost_at_pos[step_num] = lnpost_at_pos[step_num-1]\n",
        "            acceptance_ratio[step_num] = float(accepted)/step_num\n",
        "    \n",
        "    return (positions, lnpost_at_pos, acceptance_ratio)\n",
        " "
      ],
      "execution_count": 0,
      "outputs": []
    },
    {
      "cell_type": "markdown",
      "metadata": {
        "id": "JQmNhA7Rqoqh",
        "colab_type": "text"
      },
      "source": [
        "#### Problem 1c\n",
        "\n",
        "Find a good set of initialization values by optimizing.\n",
        "\n",
        "To save some time, I will assert that if we made a Lomb-Scargle periodogram of the RVs, there would be a peak around period = 3.52-3.53 days, so start with that guess and let's figure out what the best values might be for the other parameters.\n",
        "\n",
        "(If you finish early and are up for a bonus problem, you can double-check my assertion using [astropy timeseries](https://docs.astropy.org/en/stable/timeseries/lombscargle.html)!)"
      ]
    },
    {
      "cell_type": "code",
      "metadata": {
        "id": "14eY13vscuGB",
        "colab_type": "code",
        "colab": {}
      },
      "source": [
        "theta_0 = [3.53, 100, 0, 0] # [period, amplitude, t0] starting guesses"
      ],
      "execution_count": 0,
      "outputs": []
    },
    {
      "cell_type": "code",
      "metadata": {
        "id": "0JEPn8wBbpdb",
        "colab_type": "code",
        "colab": {
          "base_uri": "https://localhost:8080/",
          "height": 51
        },
        "outputId": "28bf242d-ee85-4eda-bcfe-1c3cea7086ff"
      },
      "source": [
        "from scipy.optimize import minimize\n",
        "res = minimize(nll, theta_0, \n",
        "               args=(data['rv'], data['t'], data['rv_err']),\n",
        "              method='Nelder-Mead')\n",
        "print('Optimizer finished with message \"{0}\" and \\n\\\n",
        "      best-fit parameters {1}'.format(res['message'], res['x']))"
      ],
      "execution_count": 7,
      "outputs": [
        {
          "output_type": "stream",
          "text": [
            "Optimizer finished with message \"Optimization terminated successfully.\" and \n",
            "      best-fit parameters [ 3.52472578 84.2442877   0.21263976 -0.18676049]\n"
          ],
          "name": "stdout"
        }
      ]
    },
    {
      "cell_type": "code",
      "metadata": {
        "id": "ayB5r6wSdxLc",
        "colab_type": "code",
        "colab": {
          "base_uri": "https://localhost:8080/",
          "height": 283
        },
        "outputId": "b26c1bd1-98c5-427d-f1d6-7ab9d4734826"
      },
      "source": [
        "fig, ax = plt.subplots()\n",
        "ax.errorbar((data['t'] - res['x'][2]) % res['x'][0], data['rv'], data['rv_err'],\n",
        "            fmt='o', ms=4)\n",
        "ax.set_xlabel('Phase')\n",
        "ax.set_ylabel(r'RV (m s$^{-1}$)');"
      ],
      "execution_count": 8,
      "outputs": [
        {
          "output_type": "display_data",
          "data": {
            "image/png": "[encoded data removed]",
            "text/plain": [
              "<Figure size 432x288 with 1 Axes>"
            ]
          },
          "metadata": {
            "tags": []
          }
        }
      ]
    },
    {
      "cell_type": "markdown",
      "metadata": {
        "id": "5bNn1MhBqvJ5",
        "colab_type": "text"
      },
      "source": [
        "#### Problem 1d\n",
        "\n",
        "Run the MCMC!"
      ]
    },
    {
      "cell_type": "code",
      "metadata": {
        "id": "Bt9ndLZVHuNa",
        "colab_type": "code",
        "colab": {}
      },
      "source": [
        "theta_0 = res['x']\n",
        "cov = [0.001, 0.1, 0.01, 0.1]\n",
        "pos, lnpost, acc = mh_mcmc(theta_0, cov, 5000, data['rv'], data['t'], data['rv_err'])"
      ],
      "execution_count": 0,
      "outputs": []
    },
    {
      "cell_type": "code",
      "metadata": {
        "id": "kxHd9_ECJqu1",
        "colab_type": "code",
        "colab": {
          "base_uri": "https://localhost:8080/",
          "height": 297
        },
        "outputId": "e972a9b3-23a6-41ce-94d1-a4ebe68187eb"
      },
      "source": [
        "fig, ax = plt.subplots()\n",
        "ax.plot(pos[:,0], pos[:,1], 'o-', alpha=0.3)\n",
        "ax.plot(theta_0[0], theta_0[1], '*', ms=30, \n",
        "        mfc='Crimson', mec='0.8', mew=2, \n",
        "        alpha=0.7)\n",
        "ax.set_xlabel('Period', fontsize=14)\n",
        "ax.set_ylabel(r'K (m s$^{-1}$)', fontsize=14)\n",
        "fig.tight_layout()"
      ],
      "execution_count": 14,
      "outputs": [
        {
          "output_type": "display_data",
          "data": {
            "image/png": "[encoded data removed]",
            "text/plain": [
              "<Figure size 432x288 with 1 Axes>"
            ]
          },
          "metadata": {
            "tags": []
          }
        }
      ]
    },
    {
      "cell_type": "markdown",
      "metadata": {
        "id": "2pGVLnEbq3Ne",
        "colab_type": "text"
      },
      "source": [
        "#### Problem 1e\n",
        "\n",
        "Calculate the auto-correlation length of your chain."
      ]
    },
    {
      "cell_type": "markdown",
      "metadata": {
        "id": "2OKo8YaNs-J5",
        "colab_type": "text"
      },
      "source": [
        "First, let's just plot the sequence of orbital period values in the chain. From eyeballing this sequence, how many steps do you think are needed to reach a sample that is independent from the previous one(s)?"
      ]
    },
    {
      "cell_type": "code",
      "metadata": {
        "id": "JRZqy2VdIjqT",
        "colab_type": "code",
        "colab": {
          "base_uri": "https://localhost:8080/",
          "height": 276
        },
        "outputId": "6a5e8753-ab12-42eb-fe51-6d26eed40164"
      },
      "source": [
        "plt.plot(pos[:,0]);"
      ],
      "execution_count": 13,
      "outputs": [
        {
          "output_type": "display_data",
          "data": {
            "image/png": "[encoded data removed]",
            "text/plain": [
              "<Figure size 432x288 with 1 Axes>"
            ]
          },
          "metadata": {
            "tags": []
          }
        }
      ]
    },
    {
      "cell_type": "code",
      "metadata": {
        "id": "fDjuBT8oigSk",
        "colab_type": "code",
        "colab": {}
      },
      "source": [
        ""
      ],
      "execution_count": 0,
      "outputs": []
    },
    {
      "cell_type": "markdown",
      "metadata": {
        "id": "a8pmr0elr_UG",
        "colab_type": "text"
      },
      "source": [
        "#### Problem 1f\n",
        "\n",
        "Change the step size of the MCMC. What does this do to the auto-correlation length? Does this seem better or worse, and why?"
      ]
    },
    {
      "cell_type": "code",
      "metadata": {
        "id": "UGhmEYGDsJg8",
        "colab_type": "code",
        "colab": {}
      },
      "source": [
        "cov = [0.0001, 0.1, 0.01, 0.1]\n",
        "pos, lnpost, acc = mh_mcmc(theta_0, cov, 5000, data['rv'], data['t'], data['rv_err'])"
      ],
      "execution_count": 0,
      "outputs": []
    },
    {
      "cell_type": "code",
      "metadata": {
        "id": "tXzeq6lGtcwj",
        "colab_type": "code",
        "colab": {}
      },
      "source": [
        ""
      ],
      "execution_count": 0,
      "outputs": []
    },
    {
      "cell_type": "markdown",
      "metadata": {
        "id": "x-jsQCOpsKUX",
        "colab_type": "text"
      },
      "source": [
        "#### Problem 1g\n",
        "\n",
        "Start the MCMC in a different region of parameter space. What happens to the resulting chain?"
      ]
    },
    {
      "cell_type": "code",
      "metadata": {
        "id": "89dq37_-sUIp",
        "colab_type": "code",
        "colab": {}
      },
      "source": [
        ""
      ],
      "execution_count": 0,
      "outputs": []
    },
    {
      "cell_type": "markdown",
      "metadata": {
        "id": "RBsI7Gv2wPYh",
        "colab_type": "text"
      },
      "source": [
        "#### Problem 1h\n",
        "\n",
        "Using the step sizes and starting conditions that you deem best, run your MCMC for *at least* 1000x the auto-correlation length to get a large number of independent samples. Plot the posterior distribution of radial velocity semi-amplitude K. This parameter is arguably the most important output of an RV fit, because it is a measurement of the mass of the planet. \n",
        "\n",
        "From these results, what can we say about the true value of K? What is the probability that K > 84 m/s? 85 m/s? 90 m/s?"
      ]
    },
    {
      "cell_type": "code",
      "metadata": {
        "id": "vbvyGoOhww53",
        "colab_type": "code",
        "colab": {}
      },
      "source": [
        ""
      ],
      "execution_count": 0,
      "outputs": []
    },
    {
      "cell_type": "markdown",
      "metadata": {
        "id": "dSkcfhjRsZ6u",
        "colab_type": "text"
      },
      "source": [
        "### Problem 2: Fitting a Keplerian to Data\n",
        "\n",
        "In the previous example, the orbit we were fitting had negligible eccentricity, so we were able to fit it with a sinusoid. In this example, we'll look at the high-eccentricity planet HD 80606b and fit a full Keplerian model to its RV data. This requires introducing some new free parameters to the model, which as we will see are not always straightforward to sample!"
      ]
    },
    {
      "cell_type": "code",
      "metadata": {
        "id": "0cl9eWYwsvCS",
        "colab_type": "code",
        "colab": {}
      },
      "source": [
        "datafile = 'https://exoplanetarchive.ipac.caltech.edu/data/ExoData/0045/0045982/data/UID_0045982_RVC_006.tbl'\n",
        "data = pd.read_fwf(datafile, header=0, names=['t', 'rv', 'rv_err'], skiprows=21)\n",
        "data['t'] -= data['t'][0]"
      ],
      "execution_count": 0,
      "outputs": []
    },
    {
      "cell_type": "code",
      "metadata": {
        "id": "-TnU31Qrx_69",
        "colab_type": "code",
        "colab": {}
      },
      "source": [
        ""
      ],
      "execution_count": 0,
      "outputs": []
    }
  ]
}